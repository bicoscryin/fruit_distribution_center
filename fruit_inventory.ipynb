{
 "cells": [
  {
   "cell_type": "code",
   "execution_count": null,
   "id": "c9e02062",
   "metadata": {},
   "outputs": [],
   "source": [
    "#This notebook will be managing fruit data\n",
    "#Define the Fruit Tuples (Nick)\n",
    "#Track Out-of-Stock Fruits with Sets (Nick)\n",
    "#Store and Update Fruit Details with Dictionaries (Jose)\n",
    "#Adjust Pricing (Jose)"
   ]
  }
 ],
 "metadata": {
  "language_info": {
   "name": "python"
  }
 },
 "nbformat": 4,
 "nbformat_minor": 5
}
