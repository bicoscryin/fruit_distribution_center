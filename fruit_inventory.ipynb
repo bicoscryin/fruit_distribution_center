{
 "cells": [
  {
   "cell_type": "code",
   "execution_count": 1,
   "id": "c9e02062",
   "metadata": {},
   "outputs": [
    {
     "name": "stdout",
     "output_type": "stream",
     "text": [
      "('apples', 'cherries', 'peaches', 'dates', 'plumb') <class 'tuple'>\n",
      "{'apples': {'price_per_pound': 5.5, 'color': 'red', 'in_stock': True, 'quantity': 100}, 'cherries': {'price_per_pound': 3.0, 'color': 'red', 'in_stock': False, 'quantity': 0}, 'peaches': {'price_per_pound': 4.0, 'color': 'yellow', 'in_stock': True, 'quantity': 50}, 'dates': {'price_per_pound': 6.0, 'color': 'brown', 'in_stock': True, 'quantity': 75}, 'plums': {'price_per_pound': 2.5, 'color': 'purple', 'in_stock': False, 'quantity': 0}}\n"
     ]
    }
   ],
   "source": [
    "#This notebook will be managing fruit data\n",
    "#Define the Fruit Tuples (Nick)\n",
    "fruit_batch = (\"apples\",\"cherries\",\"peaches\",\"dates\",\"plumb\")\n",
    "print(fruit_batch,type(fruit_batch))\n",
    "#Track Out-of-Stock Fruits with Sets (Nick)\n",
    "#Store and Update Fruit Details with Dictionaries (Jose)\n",
    "fruit_details = {\n",
    "  \"apples\": {\"price_per_pound\" : 5.50, \"color\": \"red\", \"in_stock\": True, \"quantity\": 100},\n",
    "  \"cherries\": {\"price_per_pound\" : 3.00, \"color\": \"red\", \"in_stock\": False, \"quantity\": 0},\n",
    "  \"peaches\": {\"price_per_pound\" : 4.00, \"color\": \"yellow\", \"in_stock\": True, \"quantity\": 50},\n",
    "  \"dates\": {\"price_per_pound\" : 6.00, \"color\": \"brown\", \"in_stock\": True, \"quantity\": 75},\n",
    "  \"plums\": {\"price_per_pound\" : 2.50, \"color\": \"purple\", \"in_stock\": False, \"quantity\": 0}\n",
    "}\n",
    "\n",
    "print(fruit_details)\n",
    "\n",
    "#Adjust Pricing (Jose)"
   ]
  }
 ],
 "metadata": {
  "kernelspec": {
   "display_name": "base",
   "language": "python",
   "name": "python3"
  },
  "language_info": {
   "codemirror_mode": {
    "name": "ipython",
    "version": 3
   },
   "file_extension": ".py",
   "mimetype": "text/x-python",
   "name": "python",
   "nbconvert_exporter": "python",
   "pygments_lexer": "ipython3",
   "version": "3.13.5"
  }
 },
 "nbformat": 4,
 "nbformat_minor": 5
}
