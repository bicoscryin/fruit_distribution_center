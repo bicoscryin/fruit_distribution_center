{
 "cells": [
  {
   "cell_type": "code",
   "execution_count": 1,
   "id": "c9e02062",
   "metadata": {},
   "outputs": [
    {
     "name": "stdout",
     "output_type": "stream",
     "text": [
      "('apples', 'cherries', 'peaches', 'dates', 'plumb') <class 'tuple'>\n"
     ]
    }
   ],
   "source": [
    "#This notebook will be managing fruit data\n",
    "#Define the Fruit Tuples (Nick)\n",
    "fruit_batch = (\"apples\",\"cherries\",\"peaches\",\"dates\",\"plumb\")\n",
    "print(fruit_batch,type(fruit_batch))\n",
    "#Track Out-of-Stock Fruits with Sets (Nick)\n",
    "#Store and Update Fruit Details with Dictionaries (Jose)\n",
    "#Adjust Pricing (Jose)"
   ]
  }
 ],
 "metadata": {
  "kernelspec": {
   "display_name": "base",
   "language": "python",
   "name": "python3"
  },
  "language_info": {
   "codemirror_mode": {
    "name": "ipython",
    "version": 3
   },
   "file_extension": ".py",
   "mimetype": "text/x-python",
   "name": "python",
   "nbconvert_exporter": "python",
   "pygments_lexer": "ipython3",
   "version": "3.13.5"
  }
 },
 "nbformat": 4,
 "nbformat_minor": 5
}
